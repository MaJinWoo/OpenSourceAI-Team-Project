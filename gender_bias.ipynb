{
  "nbformat": 4,
  "nbformat_minor": 0,
  "metadata": {
    "colab": {
      "provenance": [],
      "authorship_tag": "ABX9TyMplEyHMP/9R1ATuIgyQnVs",
      "include_colab_link": true
    },
    "kernelspec": {
      "name": "python3",
      "display_name": "Python 3"
    },
    "language_info": {
      "name": "python"
    }
  },
  "cells": [
    {
      "cell_type": "markdown",
      "metadata": {
        "id": "view-in-github",
        "colab_type": "text"
      },
      "source": [
        "<a href=\"https://colab.research.google.com/github/MaJinWoo/OpenSourceAI-Team-Project/blob/main/gender_bias.ipynb\" target=\"_parent\"><img src=\"https://colab.research.google.com/assets/colab-badge.svg\" alt=\"Open In Colab\"/></a>"
      ]
    },
    {
      "cell_type": "code",
      "execution_count": 6,
      "metadata": {
        "colab": {
          "base_uri": "https://localhost:8080/"
        },
        "id": "pvL750sg6wDV",
        "outputId": "301dbd40-82f7-43bc-e85c-f393cfd8a8eb"
      },
      "outputs": [
        {
          "output_type": "stream",
          "name": "stdout",
          "text": [
            "Drive already mounted at /content/drive; to attempt to forcibly remount, call drive.mount(\"/content/drive\", force_remount=True).\n"
          ]
        },
        {
          "output_type": "execute_result",
          "data": {
            "text/plain": [
              "Index(['Age', 'RestingBP', 'Cholesterol', 'FastingBS', 'MaxHR', 'Oldpeak',\n",
              "       'HeartDisease', 'Sex_F', 'Sex_M', 'ChestPainType_ASY',\n",
              "       'ChestPainType_ATA', 'ChestPainType_NAP', 'ChestPainType_TA',\n",
              "       'RestingECG_LVH', 'RestingECG_Normal', 'RestingECG_ST',\n",
              "       'ExerciseAngina_N', 'ExerciseAngina_Y', 'ST_Slope_Down',\n",
              "       'ST_Slope_Flat', 'ST_Slope_Up'],\n",
              "      dtype='object')"
            ]
          },
          "metadata": {},
          "execution_count": 6
        }
      ],
      "source": [
        "from google.colab import drive\n",
        "drive.mount('/content/drive')\n",
        "f_path = '/content/heart.csv'\n",
        "\n",
        "import pandas as pd\n",
        "heart = pd.read_csv(f_path)\n",
        "\n",
        "\n",
        "#OneHotEncoding\n",
        "heart = pd.get_dummies(heart)\n",
        "heart.head()\n"
      ]
    },
    {
      "cell_type": "code",
      "source": [
        "Male = len(heart[ heart['Sex_M'] == 1 ])\n",
        "Female = len(heart[ heart['Sex_M'] == 0 ])\n",
        "Positive = heart[ heart['HeartDisease'] == 1 ]\n",
        "Negative = heart[ heart['HeartDisease'] == 0 ]\n",
        "\n",
        "\n",
        "\n"
      ],
      "metadata": {
        "id": "dBwXWNVb78al"
      },
      "execution_count": 36,
      "outputs": []
    },
    {
      "cell_type": "code",
      "source": [
        "mPositive =len(Positive[Positive['Sex_M'] == 1])\n",
        "fPositive = len(Positive[Positive['Sex_M'] == 0])\n",
        "\n",
        "mNegative = len(Negative[Negative['Sex_M'] == 1])\n",
        "fNegative = len(Negative[Negative['Sex_M'] == 0])\n",
        "\n",
        "print(f\"남성 양성 확률: {mPositive / (mPositive + mNegative) }\")\n",
        "print(f\"여성 양성 확률: {fPositive / (fPositive + fNegative) }\")\n",
        "print('\\n')\n",
        "Male = len(heart[ heart['Sex_M'] == 1 ])\n",
        "Female = len(heart[ heart['Sex_M'] == 0 ])\n",
        "\n",
        "print(f\"남성 표본: {Male}명, 여성 표본: {Female}명\")"
      ],
      "metadata": {
        "colab": {
          "base_uri": "https://localhost:8080/"
        },
        "id": "pTbG8FUh-EXB",
        "outputId": "cd3d577e-5e6d-4be8-ccef-27f75b851504"
      },
      "execution_count": 37,
      "outputs": [
        {
          "output_type": "stream",
          "name": "stdout",
          "text": [
            "남성 양성 확률: 0.6317241379310344\n",
            "여성 양성 확률: 0.25906735751295334\n",
            "\n",
            "\n",
            "남성 표본: 725명, 여성 표본: 193명\n"
          ]
        }
      ]
    }
  ]
}